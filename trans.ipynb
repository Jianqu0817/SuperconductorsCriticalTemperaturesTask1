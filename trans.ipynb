{
 "cells": [
  {
   "cell_type": "code",
   "execution_count": null,
   "metadata": {},
   "outputs": [],
   "source": [
    "import pandas as pd\n",
    "import numpy as np\n",
    "df = pd.read_csv('Supercon_data2.csv')\n"
   ]
  },
  {
   "cell_type": "code",
   "execution_count": null,
   "metadata": {},
   "outputs": [],
   "source": [
    "# Table for Elements\n",
    "elements = ['H', 'He', 'Li', 'Be', 'B', 'C', 'N', 'O', 'F', 'Ne', 'Na', 'Mg', 'Al', 'Si', 'P', 'S', 'Cl', 'Ar', 'K', 'Ca', 'Sc', 'Ti', 'V', 'Cr', 'Mn', 'Fe', 'Ni', 'Co', 'Cu', 'Zn', 'Ga', 'Ge', 'As', 'Se', 'Br', 'Kr', 'Rb', 'Sr', 'Y', 'Zr', 'Nb', 'Mo', 'Tc', 'Ru', 'Rh', 'Pd', 'Ag', 'Cd', 'In', 'Sn', 'Sb', 'Te', 'I', 'Xe', 'Cs', 'Ba', 'La', 'Ce', 'Pr', 'Nd', 'Pm', 'Sm', 'Eu', 'Gd', 'Tb', 'Dy', 'Ho', 'Er', 'Tm', 'Yb', 'Lu', 'Hf', 'Ta', 'W', 'Re', 'Os', 'Ir', 'Pt', 'Au', 'Hg', 'Tl', 'Pb', 'Bi', 'Th', 'Pa', 'U', 'Np', 'Pu', 'Am', 'Cm', 'Bk', 'Cf', 'Es', 'Fm', 'Md', 'No', 'Lr', 'Rf', 'Db', 'Sg', 'Bh', 'Hs', 'Mt', 'Ds', 'Rg', 'Cn', 'Nh', 'Fl', 'Mc', 'Lv', 'Ts', 'Og']\n",
    "elements.append(\"Tc\")\n",
    "# Create a dataframe with elements and Tc column\n",
    "data_elements = pd.DataFrame(np.zeros((15582,113)),columns=elements)\n",
    "data_elements.loc[:,:] = 0\n",
    "tot=0\n",
    "\n",
    "def get_elements(chemical_formula,Tcs):\n",
    "\n",
    "    current_element = ''\n",
    "    elements=[]\n",
    "    element_rate=[]\n",
    "    x=\"\"\n",
    "\n",
    "    print(\"doing \"+chemical_formula)\n",
    "    \n",
    "    for char in chemical_formula:\n",
    "        if char.isupper():\n",
    "            if current_element:\n",
    "                elements.append(current_element)\n",
    "            if x==\"\" and current_element:\n",
    "                element_rate.append(1)\n",
    "            elif current_element!=\"\":\n",
    "                element_rate.append(float(x))\n",
    "            x=\"\"\n",
    "            current_element = char\n",
    "        elif char.islower():\n",
    "            current_element += char\n",
    "        elif char.isdigit() or char==\".\":\n",
    "            x += char    \n",
    "    \n",
    "    if current_element:\n",
    "        elements.append(current_element)\n",
    "    if x==\"\" and current_element:\n",
    "        element_rate.append(1)\n",
    "    elif current_element!=\"\":\n",
    "        element_rate.append(float(x))\n",
    "\n",
    "    for i in elements:\n",
    "        if i not in data_elements.columns:\n",
    "            data_elements.insert(0,i,0)\n",
    "\n",
    "\n",
    "    for i in range(len(elements)):\n",
    "        print(elements[i], element_rate[i])\n",
    "        data_elements.loc[tot,elements[i]] += element_rate[i]\n",
    "        data_elements.loc[tot,\"Tc\"] = Tcs"
   ]
  },
  {
   "cell_type": "code",
   "execution_count": null,
   "metadata": {},
   "outputs": [],
   "source": [
    "for compound, Tc in zip(df['compound'], df['Tc']):\n",
    "    get_elements(compound,Tc)\n",
    "    tot+=1\n",
    "data_elements.to_csv('Supercon_data_with_elements.csv', index=False)\n"
   ]
  }
 ],
 "metadata": {
  "kernelspec": {
   "display_name": "Python 3",
   "language": "python",
   "name": "python3"
  },
  "language_info": {
   "codemirror_mode": {
    "name": "ipython",
    "version": 3
   },
   "file_extension": ".py",
   "mimetype": "text/x-python",
   "name": "python",
   "nbconvert_exporter": "python",
   "pygments_lexer": "ipython3",
   "version": "3.10.6"
  }
 },
 "nbformat": 4,
 "nbformat_minor": 2
}
