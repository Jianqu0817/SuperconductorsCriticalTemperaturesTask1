{
 "cells": [
  {
   "cell_type": "code",
   "execution_count": 22,
   "metadata": {},
   "outputs": [],
   "source": [
    "from sklearn.decomposition import PCA\n",
    "import pandas as pd\n",
    "import numpy as np\n",
    "from sklearn.preprocessing import StandardScaler\n",
    "from sklearn.model_selection import train_test_split\n",
    "from sklearn.neighbors import KNeighborsClassifier\n",
    "from sklearn.metrics import accuracy_score"
   ]
  },
  {
   "cell_type": "code",
   "execution_count": 23,
   "metadata": {},
   "outputs": [
    {
     "name": "stderr",
     "output_type": "stream",
     "text": [
      "C:\\Users\\renga\\AppData\\Local\\Temp\\ipykernel_24160\\3528358607.py:4: SettingWithCopyWarning: \n",
      "A value is trying to be set on a copy of a slice from a DataFrame\n",
      "\n",
      "See the caveats in the documentation: https://pandas.pydata.org/pandas-docs/stable/user_guide/indexing.html#returning-a-view-versus-a-copy\n",
      "  y.loc[y<1] = 0\n",
      "C:\\Users\\renga\\AppData\\Local\\Temp\\ipykernel_24160\\3528358607.py:5: SettingWithCopyWarning: \n",
      "A value is trying to be set on a copy of a slice from a DataFrame\n",
      "\n",
      "See the caveats in the documentation: https://pandas.pydata.org/pandas-docs/stable/user_guide/indexing.html#returning-a-view-versus-a-copy\n",
      "  y.loc[y>=1] = 1\n"
     ]
    }
   ],
   "source": [
    "# 读取数据\n",
    "all_data = pd.read_csv('data_1.csv')\n",
    "x,y = all_data.loc[:,all_data.columns!='Tc.1'],all_data.loc[:,\"Tc.1\"]\n",
    "y.loc[y<1] = 0\n",
    "y.loc[y>=1] = 1"
   ]
  },
  {
   "cell_type": "code",
   "execution_count": 24,
   "metadata": {},
   "outputs": [],
   "source": [
    "# 标准化\n",
    "scaler = StandardScaler()\n",
    "x = scaler.fit_transform(x)"
   ]
  },
  {
   "cell_type": "code",
   "execution_count": 25,
   "metadata": {},
   "outputs": [],
   "source": [
    "# 选择需要进行PCA的特征\n",
    "def perform_pca(data, n_components):\n",
    "    pca = PCA(n_components=n_components)\n",
    "    pca.fit(data)\n",
    "    transformed_data = pca.transform(data)\n",
    "    return transformed_data\n",
    "\n",
    "x = perform_pca(x, 10)"
   ]
  },
  {
   "cell_type": "code",
   "execution_count": 26,
   "metadata": {},
   "outputs": [],
   "source": [
    "from imblearn.over_sampling import SMOTE\n",
    "x_train, x_test, y_train, y_test = train_test_split(x,y, test_size=0.3, random_state=87)\n",
    "x_test_nores = x_test\n",
    "y_test_nores = y_test\n",
    "smote = SMOTE()\n",
    "x,y = smote.fit_resample(x, y)\n",
    "#划分数据集\n",
    "x_train, x_test, y_train, y_test = train_test_split(x,y, test_size=0.3, random_state=87)\n",
    "\n",
    "x_test = x_test_nores\n",
    "y_test = y_test_nores"
   ]
  },
  {
   "cell_type": "code",
   "execution_count": 27,
   "metadata": {},
   "outputs": [
    {
     "name": "stdout",
     "output_type": "stream",
     "text": [
      "0.9554789151904687\n",
      "0.97214975675104\n",
      "Accuracy: 0.9554789151904687\n",
      "正-正: 5808\n",
      "正-负: 277\n",
      "负-正: 7\n",
      "负-负: 287\n"
     ]
    }
   ],
   "source": [
    "\n",
    "# 创建KNN模型\n",
    "knn = KNeighborsClassifier()\n",
    "\n",
    "# 训练\n",
    "knn.fit(x_train, y_train.astype('str'))\n",
    "# 测试\n",
    "print(knn.score(x_test, y_test.astype('str')))\n",
    "print(knn.score(x_train, y_train.astype('str')))\n",
    "# 正确率\n",
    "y_pred=knn.predict(x_test)\n",
    "accuracy = accuracy_score(y_pred, y_test.astype('str'))\n",
    "print(\"Accuracy:\", accuracy)\n",
    "# Get the predicted classes\n",
    "y_pred = knn.predict(x_test)\n",
    "\n",
    "# Create empty lists for positive and negative classes\n",
    "PP = 0\n",
    "PN = 0\n",
    "NP = 0\n",
    "NN = 0\n",
    "for i in range(len(y_pred)):\n",
    "    if y_test.iloc[i] == 1 and y_pred[i] == \"1.0\":\n",
    "        PP += 1\n",
    "    elif y_test.iloc[i] == 1 and y_pred[i] == \"0.0\":\n",
    "        PN += 1\n",
    "    elif y_test.iloc[i] == 0 and y_pred[i] == \"1.0\":\n",
    "        NP += 1\n",
    "    elif y_test.iloc[i] == 0 and y_pred[i] == \"0.0\":\n",
    "        NN += 1\n",
    "# Print the confusion matrix\n",
    "print(\"正-正:\", PP)\n",
    "print(\"正-负:\", PN)\n",
    "print(\"负-正:\", NP)\n",
    "print(\"负-负:\", NN)\n"
   ]
  },
  {
   "cell_type": "code",
   "execution_count": 28,
   "metadata": {},
   "outputs": [],
   "source": [
    "pd.DataFrame(x_train).to_csv('X_train_scaled.csv')\n",
    "pd.DataFrame(x_test).to_csv('X_test_scaled.csv')\n",
    "pd.DataFrame(y_train).to_csv('y_train.csv')\n",
    "pd.DataFrame(y_test).to_csv('y_test.csv')\n",
    "y_pred = knn.predict(x_test)\n",
    "np.savetxt('y_pred.txt', y_pred, fmt='%s')\n",
    "np.savetxt('y_test.txt', y_test, fmt='%s')"
   ]
  }
 ],
 "metadata": {
  "kernelspec": {
   "display_name": "Python 3",
   "language": "python",
   "name": "python3"
  },
  "language_info": {
   "codemirror_mode": {
    "name": "ipython",
    "version": 3
   },
   "file_extension": ".py",
   "mimetype": "text/x-python",
   "name": "python",
   "nbconvert_exporter": "python",
   "pygments_lexer": "ipython3",
   "version": "3.10.6"
  }
 },
 "nbformat": 4,
 "nbformat_minor": 2
}
