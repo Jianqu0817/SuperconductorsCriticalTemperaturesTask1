{
 "cells": [
  {
   "cell_type": "code",
   "execution_count": 1,
   "metadata": {},
   "outputs": [],
   "source": [
    "from sklearn.decomposition import PCA\n",
    "import pandas as pd\n",
    "import numpy as np\n",
    "from sklearn.preprocessing import StandardScaler\n",
    "from sklearn.model_selection import train_test_split\n",
    "from sklearn.neighbors import KNeighborsClassifier\n",
    "from sklearn.metrics import accuracy_score\n",
    "import matplotlib.pyplot as plt\n",
    "import random"
   ]
  },
  {
   "cell_type": "code",
   "execution_count": 2,
   "metadata": {},
   "outputs": [
    {
     "name": "stderr",
     "output_type": "stream",
     "text": [
      "/tmp/ipykernel_3444/3581831477.py:4: SettingWithCopyWarning: \n",
      "A value is trying to be set on a copy of a slice from a DataFrame\n",
      "\n",
      "See the caveats in the documentation: https://pandas.pydata.org/pandas-docs/stable/user_guide/indexing.html#returning-a-view-versus-a-copy\n",
      "  y.loc[y<=1] = 0\n",
      "/tmp/ipykernel_3444/3581831477.py:5: SettingWithCopyWarning: \n",
      "A value is trying to be set on a copy of a slice from a DataFrame\n",
      "\n",
      "See the caveats in the documentation: https://pandas.pydata.org/pandas-docs/stable/user_guide/indexing.html#returning-a-view-versus-a-copy\n",
      "  y.loc[y>=1] = 1\n"
     ]
    }
   ],
   "source": [
    "# 读取数据\n",
    "all_data = pd.read_csv('data_1.csv')\n",
    "x,y = all_data.loc[:,all_data.columns!='Tc.1'],all_data.loc[:,\"Tc.1\"]\n",
    "y.loc[y<=1] = 0\n",
    "y.loc[y>=1] = 1"
   ]
  },
  {
   "cell_type": "code",
   "execution_count": 3,
   "metadata": {},
   "outputs": [],
   "source": [
    "# 选择需要进行PCA的特征\n",
    "def perform_pca(data, n_components):\n",
    "    pca = PCA(n_components=n_components)\n",
    "    pca.fit(data)\n",
    "    transformed_data = pca.transform(data)\n",
    "    return transformed_data\n",
    "\n",
    "x = perform_pca(x, 3)"
   ]
  },
  {
   "cell_type": "code",
   "execution_count": 4,
   "metadata": {},
   "outputs": [],
   "source": [
    "#划分数据集\n",
    "x_train, x_test, y_train, y_test = train_test_split(x, y, test_size=0.3, random_state=87)"
   ]
  },
  {
   "cell_type": "code",
   "execution_count": 5,
   "metadata": {},
   "outputs": [],
   "source": [
    "#如果不想标准化的话，使用此代码\n",
    "X_train_scaled = x_train\n",
    "X_test_scaled = x_test"
   ]
  },
  {
   "cell_type": "code",
   "execution_count": 6,
   "metadata": {},
   "outputs": [],
   "source": [
    "# 标准化\n",
    "scaler = StandardScaler()\n",
    "X_train_scaled = scaler.fit_transform(x_train)\n",
    "X_test_scaled = scaler.transform(x_test)\n"
   ]
  },
  {
   "cell_type": "code",
   "execution_count": 7,
   "metadata": {},
   "outputs": [
    {
     "name": "stdout",
     "output_type": "stream",
     "text": [
      "0.9622197836651513\n",
      "0.972453641494222\n",
      "Accuracy: 0.9622197836651513\n"
     ]
    }
   ],
   "source": [
    "\n",
    "# 创建KNN模型\n",
    "knn = KNeighborsClassifier()\n",
    "\n",
    "# 训练\n",
    "knn.fit(X_train_scaled, y_train.astype('str'))\n",
    "# 测试\n",
    "print(knn.score(X_test_scaled, y_test.astype('str')))\n",
    "print(knn.score(X_train_scaled, y_train.astype('str')))\n",
    "# 正确率\n",
    "y_pred=knn.predict(X_test_scaled)\n",
    "accuracy = accuracy_score(y_pred, y_test.astype('str'))\n",
    "print(\"Accuracy:\", accuracy)\n",
    "\n"
   ]
  },
  {
   "cell_type": "code",
   "execution_count": 8,
   "metadata": {},
   "outputs": [
    {
     "name": "stdout",
     "output_type": "stream",
     "text": [
      "['1.0', '1.0', '1.0', '1.0', '1.0', '1.0', '1.0', '1.0', '1.0', '1.0', '1.0', '1.0', '1.0', '1.0', '1.0', '1.0', '1.0', '1.0', '1.0', '1.0', '1.0', '1.0', '1.0', '1.0', '1.0', '1.0', '1.0', '1.0', '1.0', '1.0', '1.0', '1.0', '1.0', '1.0', '1.0', '0.0', '1.0', '1.0', '1.0', '1.0', '0.0', '1.0', '1.0', '1.0', '1.0', '1.0', '1.0', '0.0', '1.0', '1.0', '1.0', '1.0', '1.0', '1.0', '1.0', '1.0', '1.0', '1.0', '1.0', '1.0', '1.0', '1.0', '1.0', '1.0', '1.0', '1.0', '1.0', '1.0', '1.0', '1.0', '1.0', '1.0', '1.0', '0.0', '1.0', '1.0', '1.0', '1.0', '1.0', '1.0', '1.0', '1.0', '1.0', '1.0', '1.0', '1.0', '1.0', '1.0', '1.0', '1.0', '1.0', '1.0', '1.0', '1.0', '1.0', '1.0', '1.0', '1.0', '1.0', '1.0']\n"
     ]
    },
    {
     "data": {
      "image/png": "[encoded data removed]",
      "text/plain": [
       "<Figure size 1000x600 with 1 Axes>"
      ]
     },
     "metadata": {},
     "output_type": "display_data"
    }
   ],
   "source": [
    "indexs=range(200)\n",
    "lst=random.sample(indexs,100)\n",
    "y_pred_sample=[]\n",
    "y_test_sample=[]\n",
    "for i in lst:\n",
    "    y_pred_sample.append(y_pred[i])\n",
    "    y_test_sample.append(y_test.iloc[i])\n",
    "print(y_pred_sample)\n",
    "plt.figure(figsize=(10, 6))\n",
    "plt.scatter(range(len(y_test_sample)),y_test_sample, label='Actual',s=5)\n",
    "plt.scatter(range(len(y_test_sample)),y_pred_sample, label='Predicted',s=5)\n",
    "plt.xlabel('Index')\n",
    "plt.ylabel('Value')\n",
    "plt.title('Comparison of y_pred and y_test')\n",
    "plt.show()\n"
   ]
  },
  {
   "cell_type": "code",
   "execution_count": 9,
   "metadata": {},
   "outputs": [],
   "source": [
    "pd.DataFrame(X_train_scaled).to_csv('X_train_scaled.csv')\n",
    "pd.DataFrame(X_test_scaled).to_csv('X_test_scaled.csv')\n",
    "pd.DataFrame(y_train).to_csv('y_train.csv')\n",
    "pd.DataFrame(y_test).to_csv('y_test.csv')\n",
    "y_pred = knn.predict(X_test_scaled)\n",
    "np.savetxt('y_pred.txt', y_pred, fmt='%s')\n",
    "np.savetxt('y_test.txt', y_test, fmt='%s')"
   ]
  }
 ],
 "metadata": {
  "kernelspec": {
   "display_name": "Python 3",
   "language": "python",
   "name": "python3"
  },
  "language_info": {
   "codemirror_mode": {
    "name": "ipython",
    "version": 3
   },
   "file_extension": ".py",
   "mimetype": "text/x-python",
   "name": "python",
   "nbconvert_exporter": "python",
   "pygments_lexer": "ipython3",
   "version": "3.11.7"
  }
 },
 "nbformat": 4,
 "nbformat_minor": 2
}
